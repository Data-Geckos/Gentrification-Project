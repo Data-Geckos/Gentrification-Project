{
 "cells": [
  {
   "cell_type": "code",
   "execution_count": 159,
   "metadata": {},
   "outputs": [],
   "source": [
    "# Import Dependencies\n",
    "import numpy as np\n",
    "import pandas as pd\n",
    "from scipy import stats\n",
    "import pathlib\n",
    "from matplotlib import pyplot as plt"
   ]
  },
  {
   "cell_type": "code",
   "execution_count": 160,
   "metadata": {},
   "outputs": [
    {
     "data": {
      "text/html": [
       "<div>\n",
       "<style scoped>\n",
       "    .dataframe tbody tr th:only-of-type {\n",
       "        vertical-align: middle;\n",
       "    }\n",
       "\n",
       "    .dataframe tbody tr th {\n",
       "        vertical-align: top;\n",
       "    }\n",
       "\n",
       "    .dataframe thead th {\n",
       "        text-align: right;\n",
       "    }\n",
       "</style>\n",
       "<table border=\"1\" class=\"dataframe\">\n",
       "  <thead>\n",
       "    <tr style=\"text-align: right;\">\n",
       "      <th></th>\n",
       "      <th>Census Tract</th>\n",
       "      <th>Neighborhood</th>\n",
       "      <th>Latitude</th>\n",
       "      <th>Longitude</th>\n",
       "      <th>Population</th>\n",
       "      <th>Median Age</th>\n",
       "      <th>Household Income</th>\n",
       "      <th>Per Capita Income</th>\n",
       "      <th>Poverty Count</th>\n",
       "      <th>Poverty Rate</th>\n",
       "      <th>Unemployment Rate</th>\n",
       "    </tr>\n",
       "  </thead>\n",
       "  <tbody>\n",
       "    <tr>\n",
       "      <th>0</th>\n",
       "      <td>101110</td>\n",
       "      <td>Tujunga</td>\n",
       "      <td>34.259555</td>\n",
       "      <td>-118.293602</td>\n",
       "      <td>4314.0</td>\n",
       "      <td>40.6</td>\n",
       "      <td>53077.0</td>\n",
       "      <td>26996.0</td>\n",
       "      <td>679.0</td>\n",
       "      <td>15.74</td>\n",
       "      <td>3.85</td>\n",
       "    </tr>\n",
       "    <tr>\n",
       "      <th>1</th>\n",
       "      <td>101122</td>\n",
       "      <td>Tujunga</td>\n",
       "      <td>34.267357</td>\n",
       "      <td>-118.290240</td>\n",
       "      <td>3239.0</td>\n",
       "      <td>52.3</td>\n",
       "      <td>88953.0</td>\n",
       "      <td>46974.0</td>\n",
       "      <td>109.0</td>\n",
       "      <td>3.37</td>\n",
       "      <td>2.90</td>\n",
       "    </tr>\n",
       "    <tr>\n",
       "      <th>2</th>\n",
       "      <td>101210</td>\n",
       "      <td>Tujunga</td>\n",
       "      <td>34.251998</td>\n",
       "      <td>-118.292687</td>\n",
       "      <td>6052.0</td>\n",
       "      <td>36.6</td>\n",
       "      <td>32119.0</td>\n",
       "      <td>19902.0</td>\n",
       "      <td>1994.0</td>\n",
       "      <td>32.95</td>\n",
       "      <td>5.30</td>\n",
       "    </tr>\n",
       "    <tr>\n",
       "      <th>3</th>\n",
       "      <td>101220</td>\n",
       "      <td>Tujunga</td>\n",
       "      <td>34.251190</td>\n",
       "      <td>-118.281014</td>\n",
       "      <td>3497.0</td>\n",
       "      <td>39.7</td>\n",
       "      <td>41728.0</td>\n",
       "      <td>21844.0</td>\n",
       "      <td>524.0</td>\n",
       "      <td>14.98</td>\n",
       "      <td>3.77</td>\n",
       "    </tr>\n",
       "    <tr>\n",
       "      <th>4</th>\n",
       "      <td>101300</td>\n",
       "      <td>Tujunga</td>\n",
       "      <td>34.245595</td>\n",
       "      <td>-118.271731</td>\n",
       "      <td>4297.0</td>\n",
       "      <td>49.7</td>\n",
       "      <td>86914.0</td>\n",
       "      <td>35120.0</td>\n",
       "      <td>391.0</td>\n",
       "      <td>9.10</td>\n",
       "      <td>2.91</td>\n",
       "    </tr>\n",
       "    <tr>\n",
       "      <th>...</th>\n",
       "      <td>...</td>\n",
       "      <td>...</td>\n",
       "      <td>...</td>\n",
       "      <td>...</td>\n",
       "      <td>...</td>\n",
       "      <td>...</td>\n",
       "      <td>...</td>\n",
       "      <td>...</td>\n",
       "      <td>...</td>\n",
       "      <td>...</td>\n",
       "      <td>...</td>\n",
       "    </tr>\n",
       "    <tr>\n",
       "      <th>2317</th>\n",
       "      <td>980031</td>\n",
       "      <td>San Pedro</td>\n",
       "      <td>33.737510</td>\n",
       "      <td>-118.261426</td>\n",
       "      <td>1113.0</td>\n",
       "      <td>44.1</td>\n",
       "      <td>64500.0</td>\n",
       "      <td>9765.0</td>\n",
       "      <td>0.0</td>\n",
       "      <td>0.00</td>\n",
       "      <td>0.00</td>\n",
       "    </tr>\n",
       "    <tr>\n",
       "      <th>2318</th>\n",
       "      <td>124700</td>\n",
       "      <td>Sherman Oaks</td>\n",
       "      <td>34.162467</td>\n",
       "      <td>-118.413865</td>\n",
       "      <td>5697.0</td>\n",
       "      <td>40.2</td>\n",
       "      <td>90795.0</td>\n",
       "      <td>55921.0</td>\n",
       "      <td>286.0</td>\n",
       "      <td>5.02</td>\n",
       "      <td>1.30</td>\n",
       "    </tr>\n",
       "    <tr>\n",
       "      <th>2319</th>\n",
       "      <td>503801</td>\n",
       "      <td>La Mirada</td>\n",
       "      <td>33.899103</td>\n",
       "      <td>-117.993649</td>\n",
       "      <td>3847.0</td>\n",
       "      <td>36.9</td>\n",
       "      <td>93398.0</td>\n",
       "      <td>29261.0</td>\n",
       "      <td>381.0</td>\n",
       "      <td>9.90</td>\n",
       "      <td>4.55</td>\n",
       "    </tr>\n",
       "    <tr>\n",
       "      <th>2320</th>\n",
       "      <td>573902</td>\n",
       "      <td>Long Beach</td>\n",
       "      <td>33.811974</td>\n",
       "      <td>-118.078653</td>\n",
       "      <td>1979.0</td>\n",
       "      <td>49.9</td>\n",
       "      <td>126250.0</td>\n",
       "      <td>61849.0</td>\n",
       "      <td>41.0</td>\n",
       "      <td>2.07</td>\n",
       "      <td>0.71</td>\n",
       "    </tr>\n",
       "    <tr>\n",
       "      <th>2321</th>\n",
       "      <td>576602</td>\n",
       "      <td>Long Beach</td>\n",
       "      <td>33.765980</td>\n",
       "      <td>-118.170779</td>\n",
       "      <td>4369.0</td>\n",
       "      <td>37.5</td>\n",
       "      <td>65192.0</td>\n",
       "      <td>48098.0</td>\n",
       "      <td>789.0</td>\n",
       "      <td>18.06</td>\n",
       "      <td>2.24</td>\n",
       "    </tr>\n",
       "  </tbody>\n",
       "</table>\n",
       "<p>2308 rows × 11 columns</p>\n",
       "</div>"
      ],
      "text/plain": [
       "      Census Tract  Neighborhood   Latitude   Longitude  Population  \\\n",
       "0           101110       Tujunga  34.259555 -118.293602      4314.0   \n",
       "1           101122       Tujunga  34.267357 -118.290240      3239.0   \n",
       "2           101210       Tujunga  34.251998 -118.292687      6052.0   \n",
       "3           101220       Tujunga  34.251190 -118.281014      3497.0   \n",
       "4           101300       Tujunga  34.245595 -118.271731      4297.0   \n",
       "...            ...           ...        ...         ...         ...   \n",
       "2317        980031     San Pedro  33.737510 -118.261426      1113.0   \n",
       "2318        124700  Sherman Oaks  34.162467 -118.413865      5697.0   \n",
       "2319        503801     La Mirada  33.899103 -117.993649      3847.0   \n",
       "2320        573902    Long Beach  33.811974 -118.078653      1979.0   \n",
       "2321        576602    Long Beach  33.765980 -118.170779      4369.0   \n",
       "\n",
       "      Median Age  Household Income  Per Capita Income  Poverty Count  \\\n",
       "0           40.6           53077.0            26996.0          679.0   \n",
       "1           52.3           88953.0            46974.0          109.0   \n",
       "2           36.6           32119.0            19902.0         1994.0   \n",
       "3           39.7           41728.0            21844.0          524.0   \n",
       "4           49.7           86914.0            35120.0          391.0   \n",
       "...          ...               ...                ...            ...   \n",
       "2317        44.1           64500.0             9765.0            0.0   \n",
       "2318        40.2           90795.0            55921.0          286.0   \n",
       "2319        36.9           93398.0            29261.0          381.0   \n",
       "2320        49.9          126250.0            61849.0           41.0   \n",
       "2321        37.5           65192.0            48098.0          789.0   \n",
       "\n",
       "      Poverty Rate  Unemployment Rate  \n",
       "0            15.74               3.85  \n",
       "1             3.37               2.90  \n",
       "2            32.95               5.30  \n",
       "3            14.98               3.77  \n",
       "4             9.10               2.91  \n",
       "...            ...                ...  \n",
       "2317          0.00               0.00  \n",
       "2318          5.02               1.30  \n",
       "2319          9.90               4.55  \n",
       "2320          2.07               0.71  \n",
       "2321         18.06               2.24  \n",
       "\n",
       "[2308 rows x 11 columns]"
      ]
     },
     "execution_count": 160,
     "metadata": {},
     "output_type": "execute_result"
    }
   ],
   "source": [
    "#Import Outpout_income_data file\n",
    "csv_path = pathlib.Path(\"Output_income_data.csv\")\n",
    "\n",
    "income_city_df = pd.read_csv(csv_path)\n",
    "\n",
    "income_city_df.dropna()"
   ]
  },
  {
   "cell_type": "code",
   "execution_count": 161,
   "metadata": {},
   "outputs": [
    {
     "name": "stderr",
     "output_type": "stream",
     "text": [
      "C:\\Users\\fabio\\Anaconda3\\lib\\site-packages\\numpy\\lib\\histograms.py:824: RuntimeWarning: invalid value encountered in greater_equal\n",
      "  keep = (tmp_a >= first_edge)\n",
      "C:\\Users\\fabio\\Anaconda3\\lib\\site-packages\\numpy\\lib\\histograms.py:825: RuntimeWarning: invalid value encountered in less_equal\n",
      "  keep &= (tmp_a <= last_edge)\n"
     ]
    },
    {
     "data": {
      "image/png": "[encoded data removed]",
      "text/plain": [
       "<Figure size 432x288 with 1 Axes>"
      ]
     },
     "metadata": {
      "needs_background": "light"
     },
     "output_type": "display_data"
    }
   ],
   "source": [
    "#Generate a histogram with Los Angeles County Income distribution\n",
    "plt.hist(income_city_df[\"Household Income\"])\n",
    "plt.xlabel('Household Income')\n",
    "plt.ylabel('Counts')\n",
    "plt.savefig(\"los_angeles_income.png\")\n",
    "plt.show()"
   ]
  },
  {
   "cell_type": "code",
   "execution_count": 162,
   "metadata": {},
   "outputs": [
    {
     "name": "stdout",
     "output_type": "stream",
     "text": [
      " The average income in LA County: $69678.02\n",
      " The median income in LA County: $62910.0\n",
      " The income standard deviation is: $33871.1\n",
      " The income mode in LA County: $0    45000.0\n",
      "1    52917.0\n",
      "2    55000.0\n",
      "3    68125.0\n",
      "dtype: float64\n"
     ]
    }
   ],
   "source": [
    "#Calculate and print the average, median, and mode income in LA County\n",
    "avg_income=round(income_city_df[\"Household Income\"].mean(),2)\n",
    "median_income=income_city_df[\"Household Income\"].median()\n",
    "mode_income=income_city_df[\"Household Income\"].mode()\n",
    "std_income=round(income_city_df[\"Household Income\"].std(),2)\n",
    "print(f\" The average income in LA County: ${avg_income}\")\n",
    "print(f\" The median income in LA County: ${median_income}\")\n",
    "print(f\" The income standard deviation is: ${std_income}\")\n",
    "print(f\" The income mode in LA County: ${mode_income}\")"
   ]
  },
  {
   "cell_type": "code",
   "execution_count": 163,
   "metadata": {},
   "outputs": [
    {
     "name": "stdout",
     "output_type": "stream",
     "text": [
      "The lower quartile of income is: 45000.0\n",
      "The upper quartile of income is: 85972.25\n",
      "The interquartile range of income is: 40972.25\n",
      "The the median of income is: 62910.0 \n",
      "Values below -16458.375 could be outliers.\n",
      "Values above 147430.625 could be outliers.\n"
     ]
    }
   ],
   "source": [
    "# Determine if there are any potential outliers in the average income in Los Angeles County\n",
    "quartiles = income_city_df[\"Household Income\"].quantile([.25,.5,.75])\n",
    "lowerq = quartiles[0.25]\n",
    "upperq = quartiles[0.75]\n",
    "iqr = upperq-lowerq\n",
    "\n",
    "print(f\"The lower quartile of income is: {lowerq}\")\n",
    "print(f\"The upper quartile of income is: {upperq}\")\n",
    "print(f\"The interquartile range of income is: {iqr}\")\n",
    "print(f\"The the median of income is: {quartiles[0.5]} \")\n",
    "\n",
    "lower_bound = lowerq - (1.5*iqr)\n",
    "upper_bound = upperq + (1.5*iqr)\n",
    "print(f\"Values below {lower_bound} could be outliers.\")\n",
    "print(f\"Values above {upper_bound} could be outliers.\")\n"
   ]
  },
  {
   "cell_type": "code",
   "execution_count": 164,
   "metadata": {},
   "outputs": [
    {
     "data": {
      "text/plain": [
       "15.98"
      ]
     },
     "execution_count": 164,
     "metadata": {},
     "output_type": "execute_result"
    }
   ],
   "source": [
    "#Calculate the average poverty rate in Los Angeles County\n",
    "avg_pov_rate=round(income_city_df[\"Poverty Rate\"].mean(),2)\n",
    "\n",
    "avg_pov_rate"
   ]
  },
  {
   "cell_type": "code",
   "execution_count": 165,
   "metadata": {},
   "outputs": [
    {
     "data": {
      "text/plain": [
       "3.56"
      ]
     },
     "execution_count": 165,
     "metadata": {},
     "output_type": "execute_result"
    }
   ],
   "source": [
    "#Calculate the average unemployment rate in Los Angeles County\n",
    "avg_unemp_rate= round(income_city_df[\"Unemployment Rate\"].mean(),2)\n",
    "avg_unemp_rate"
   ]
  },
  {
   "cell_type": "code",
   "execution_count": null,
   "metadata": {},
   "outputs": [],
   "source": []
  }
 ],
 "metadata": {
  "kernelspec": {
   "display_name": "Python 3",
   "language": "python",
   "name": "python3"
  },
  "language_info": {
   "codemirror_mode": {
    "name": "ipython",
    "version": 3
   },
   "file_extension": ".py",
   "mimetype": "text/x-python",
   "name": "python",
   "nbconvert_exporter": "python",
   "pygments_lexer": "ipython3",
   "version": "3.7.4"
  }
 },
 "nbformat": 4,
 "nbformat_minor": 4
}
