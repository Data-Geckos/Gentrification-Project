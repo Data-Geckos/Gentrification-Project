{
 "cells": [
  {
   "cell_type": "code",
   "execution_count": 1,
   "metadata": {},
   "outputs": [],
   "source": [
    "import pandas as pd\n",
    "import csv\n",
    "\n",
    "from config import gkey \n",
    "import gmaps\n",
    "import numpy as np\n",
    "import requests \n",
    "import time\n",
    "from scipy.stats import linregress\n",
    "from matplotlib import pyplot as plt\n",
    "\n",
    "yoga_data = \"Resources/yoga_data.csv\"\n",
    "zipcodes_la = \"Resources/lazips.csv\"\n",
    "yoga_location_df = \"Resources/yoga_studio_pins2.csv\"\n",
    "\n",
    "yoga_data = pd.read_csv(yoga_data)\n",
    "yoga_location_df = pd.read_csv(yoga_location_df)\n",
    "zipcodes_la = pd.read_csv(zipcodes_la)\n",
    "\n",
    "gmaps.configure(api_key=gkey)"
   ]
  },
  {
   "cell_type": "code",
   "execution_count": 2,
   "metadata": {},
   "outputs": [
    {
     "data": {
      "text/html": [
       "<div>\n",
       "<style scoped>\n",
       "    .dataframe tbody tr th:only-of-type {\n",
       "        vertical-align: middle;\n",
       "    }\n",
       "\n",
       "    .dataframe tbody tr th {\n",
       "        vertical-align: top;\n",
       "    }\n",
       "\n",
       "    .dataframe thead th {\n",
       "        text-align: right;\n",
       "    }\n",
       "</style>\n",
       "<table border=\"1\" class=\"dataframe\">\n",
       "  <thead>\n",
       "    <tr style=\"text-align: right;\">\n",
       "      <th></th>\n",
       "      <th>Studio</th>\n",
       "      <th>City</th>\n",
       "      <th>ZIP Code</th>\n",
       "      <th>Latitude</th>\n",
       "      <th>Longitude</th>\n",
       "      <th>Studio Count</th>\n",
       "    </tr>\n",
       "  </thead>\n",
       "  <tbody>\n",
       "    <tr>\n",
       "      <th>0</th>\n",
       "      <td>Jupiter Soundscape</td>\n",
       "      <td>Walnut</td>\n",
       "      <td>91789</td>\n",
       "      <td>34.016333</td>\n",
       "      <td>-117.858167</td>\n",
       "      <td>1</td>\n",
       "    </tr>\n",
       "    <tr>\n",
       "      <th>1</th>\n",
       "      <td>Feeling Fit Fitness</td>\n",
       "      <td>Valley Village</td>\n",
       "      <td>91617</td>\n",
       "      <td>34.164863</td>\n",
       "      <td>-118.404516</td>\n",
       "      <td>1</td>\n",
       "    </tr>\n",
       "    <tr>\n",
       "      <th>2</th>\n",
       "      <td>Golden Monkey Healing</td>\n",
       "      <td>Valley Village</td>\n",
       "      <td>91607</td>\n",
       "      <td>34.166153</td>\n",
       "      <td>-118.399337</td>\n",
       "      <td>1</td>\n",
       "    </tr>\n",
       "    <tr>\n",
       "      <th>3</th>\n",
       "      <td>Juicy Yoga Noho</td>\n",
       "      <td>North Hollywood</td>\n",
       "      <td>91606</td>\n",
       "      <td>34.186731</td>\n",
       "      <td>-118.386806</td>\n",
       "      <td>1</td>\n",
       "    </tr>\n",
       "    <tr>\n",
       "      <th>4</th>\n",
       "      <td>YogiNest</td>\n",
       "      <td>Studio City</td>\n",
       "      <td>91604</td>\n",
       "      <td>34.144463</td>\n",
       "      <td>-118.394280</td>\n",
       "      <td>13</td>\n",
       "    </tr>\n",
       "  </tbody>\n",
       "</table>\n",
       "</div>"
      ],
      "text/plain": [
       "                  Studio             City  ZIP Code   Latitude   Longitude  \\\n",
       "0     Jupiter Soundscape           Walnut     91789  34.016333 -117.858167   \n",
       "1    Feeling Fit Fitness   Valley Village     91617  34.164863 -118.404516   \n",
       "2  Golden Monkey Healing   Valley Village     91607  34.166153 -118.399337   \n",
       "3        Juicy Yoga Noho  North Hollywood     91606  34.186731 -118.386806   \n",
       "4               YogiNest      Studio City     91604  34.144463 -118.394280   \n",
       "\n",
       "   Studio Count  \n",
       "0             1  \n",
       "1             1  \n",
       "2             1  \n",
       "3             1  \n",
       "4            13  "
      ]
     },
     "execution_count": 2,
     "metadata": {},
     "output_type": "execute_result"
    }
   ],
   "source": [
    "yoga_location_df.dropna()\n",
    "yoga_location_df.sort_values(\"Studio Count\", ascending=False)\n",
    "yoga_location_df.head()"
   ]
  },
  {
   "cell_type": "code",
   "execution_count": 7,
   "metadata": {},
   "outputs": [],
   "source": [
    "location = yoga_location_df[[\"Latitude\", \"Longitude\"]].astype(float)\n",
    "studio_count = yoga_location_df[\"Studio Count\"].tolist()"
   ]
  },
  {
   "cell_type": "code",
   "execution_count": 8,
   "metadata": {},
   "outputs": [],
   "source": [
    "# Configure gmaps with API key\n",
    "gmaps.configure(api_key=gkey)"
   ]
  },
  {
   "cell_type": "code",
   "execution_count": 19,
   "metadata": {},
   "outputs": [
    {
     "data": {
      "application/vnd.jupyter.widget-view+json": {
       "model_id": "a51781ca9ed64375a55b17eb441428a7",
       "version_major": 2,
       "version_minor": 0
      },
      "text/plain": [
       "Figure(layout=FigureLayout(height='420px'))"
      ]
     },
     "metadata": {},
     "output_type": "display_data"
    }
   ],
   "source": [
    "# Create a Heatmap layer\n",
    "fig = gmaps.figure()\n",
    "\n",
    "studio_locations = yoga_location_df[[\"Latitude\", \"Longitude\"]]\n",
    "\n",
    "fig = gmaps.figure()\n",
    "\n",
    "studio_layers = gmaps.symbol_layer(studio_locations,fill_color='lime', stroke_color='lime')\n",
    "fig.add_layer(studio_layers)\n",
    "\n",
    "fig"
   ]
  }
 ],
 "metadata": {
  "kernelspec": {
   "display_name": "Python 3",
   "language": "python",
   "name": "python3"
  },
  "language_info": {
   "codemirror_mode": {
    "name": "ipython",
    "version": 3
   },
   "file_extension": ".py",
   "mimetype": "text/x-python",
   "name": "python",
   "nbconvert_exporter": "python",
   "pygments_lexer": "ipython3",
   "version": "3.7.6"
  }
 },
 "nbformat": 4,
 "nbformat_minor": 4
}
