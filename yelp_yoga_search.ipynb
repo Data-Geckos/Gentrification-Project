{
 "cells": [
  {
   "cell_type": "code",
   "execution_count": 7,
   "metadata": {},
   "outputs": [],
   "source": [
    "# DEPENDENCIES \n",
    "import requests\n",
    "import json\n",
    "import pandas as pd\n",
    "from pprint import pprint\n",
    "\n",
    "# IMPORT YELP API KEY \n",
    "from config import yelp_api_key"
   ]
  },
  {
   "cell_type": "code",
   "execution_count": 8,
   "metadata": {},
   "outputs": [
    {
     "data": {
      "text/html": [
       "<div>\n",
       "<style scoped>\n",
       "    .dataframe tbody tr th:only-of-type {\n",
       "        vertical-align: middle;\n",
       "    }\n",
       "\n",
       "    .dataframe tbody tr th {\n",
       "        vertical-align: top;\n",
       "    }\n",
       "\n",
       "    .dataframe thead th {\n",
       "        text-align: right;\n",
       "    }\n",
       "</style>\n",
       "<table border=\"1\" class=\"dataframe\">\n",
       "  <thead>\n",
       "    <tr style=\"text-align: right;\">\n",
       "      <th></th>\n",
       "      <th>ZIP Code</th>\n",
       "      <th>Postal City 1</th>\n",
       "      <th>Location</th>\n",
       "    </tr>\n",
       "  </thead>\n",
       "  <tbody>\n",
       "    <tr>\n",
       "      <th>0</th>\n",
       "      <td>90713</td>\n",
       "      <td>Lakewood</td>\n",
       "      <td>33.84871142900005, -118.11357922799999</td>\n",
       "    </tr>\n",
       "    <tr>\n",
       "      <th>1</th>\n",
       "      <td>91306</td>\n",
       "      <td>Winnetka</td>\n",
       "      <td>34.208404020000046, -118.57593995299999</td>\n",
       "    </tr>\n",
       "    <tr>\n",
       "      <th>2</th>\n",
       "      <td>90002</td>\n",
       "      <td>Los Angeles</td>\n",
       "      <td>33.94895070600006, -118.24697958699994</td>\n",
       "    </tr>\n",
       "    <tr>\n",
       "      <th>3</th>\n",
       "      <td>90506</td>\n",
       "      <td>Torrance</td>\n",
       "      <td>33.88535286100006, -118.32659746799999</td>\n",
       "    </tr>\n",
       "    <tr>\n",
       "      <th>4</th>\n",
       "      <td>90069</td>\n",
       "      <td>West Hollywood</td>\n",
       "      <td>34.08940300900008, -118.37978902499998</td>\n",
       "    </tr>\n",
       "  </tbody>\n",
       "</table>\n",
       "</div>"
      ],
      "text/plain": [
       "   ZIP Code   Postal City 1                                 Location\n",
       "0     90713        Lakewood   33.84871142900005, -118.11357922799999\n",
       "1     91306        Winnetka  34.208404020000046, -118.57593995299999\n",
       "2     90002     Los Angeles   33.94895070600006, -118.24697958699994\n",
       "3     90506        Torrance   33.88535286100006, -118.32659746799999\n",
       "4     90069  West Hollywood   34.08940300900008, -118.37978902499998"
      ]
     },
     "execution_count": 8,
     "metadata": {},
     "output_type": "execute_result"
    }
   ],
   "source": [
    "# Import second dataframe \n",
    "lazips_df = pd.read_csv(\"lazips.csv\")\n",
    "lazips_df.head()"
   ]
  },
  {
   "cell_type": "code",
   "execution_count": 9,
   "metadata": {},
   "outputs": [],
   "source": [
    "# YELP API SEARCH URL CONSTANTS\n",
    "business_search = 'https://api.yelp.com/v3/businesses/search'\n",
    "base_url = 'https://api.yelp.com'\n",
    "search_path = '/v3/businesses/search'\n",
    "auto_complete = 'https://api.yelp.com/v3/autocomplete'\n",
    "business_url = 'https://api.yelp.com/v3/businesses/{}'\n",
    "business_match = 'https://api.yelp.com/v3/businesses/matches'\n",
    "business_reviews = 'https://api.yelp.com/v3/businesses/{}/reviews'\n",
    "business_search = 'https://api.yelp.com/v3/businesses/search'"
   ]
  },
  {
   "cell_type": "code",
   "execution_count": 10,
   "metadata": {},
   "outputs": [],
   "source": [
    "# YELP API SEARCH VARIABLES\n",
    "search_term = 'yoga'\n",
    "default_location = 'Los Angeles, CA'\n",
    "search_limit = 50"
   ]
  },
  {
   "cell_type": "code",
   "execution_count": 11,
   "metadata": {},
   "outputs": [],
   "source": [
    "def getbusiness_reviews(offset):\n",
    "    headers = {'Authorization': f'Bearer {yelp_api_key}'}\n",
    "    business_search = f'https://api.yelp.com/v3/businesses/search'\n",
    "#     print(business_search)\n",
    "\n",
    "    params = {'categories': \"yoga\",\n",
    "              'location': \"los angeles, ca\",\n",
    "              'limit':50,\n",
    "              'offset':offset\n",
    "        \n",
    "    }\n",
    "    \n",
    "    \n",
    "    \n",
    "    \n",
    "    response = requests.request('GET', business_search, headers=headers, params=params)\n",
    "#     print(response.headers)\n",
    "    return response.json()"
   ]
  },
  {
   "cell_type": "code",
   "execution_count": 12,
   "metadata": {},
   "outputs": [],
   "source": [
    "results = getbusiness_reviews(250)"
   ]
  },
  {
   "cell_type": "code",
   "execution_count": 13,
   "metadata": {},
   "outputs": [
    {
     "data": {
      "text/plain": [
       "50"
      ]
     },
     "execution_count": 13,
     "metadata": {},
     "output_type": "execute_result"
    }
   ],
   "source": [
    "len(results['businesses'])"
   ]
  },
  {
   "cell_type": "code",
   "execution_count": 14,
   "metadata": {},
   "outputs": [],
   "source": [
    "import time"
   ]
  },
  {
   "cell_type": "code",
   "execution_count": 15,
   "metadata": {},
   "outputs": [
    {
     "name": "stdout",
     "output_type": "stream",
     "text": [
      "getting the results starting at 0\n",
      "getting the results starting at 50\n",
      "getting the results starting at 100\n",
      "getting the results starting at 150\n",
      "getting the results starting at 200\n",
      "getting the results starting at 250\n",
      "getting the results starting at 300\n",
      "getting the results starting at 350\n",
      "getting the results starting at 400\n",
      "getting the results starting at 450\n",
      "getting the results starting at 500\n",
      "getting the results starting at 550\n",
      "getting the results starting at 600\n",
      "getting the results starting at 650\n",
      "getting the results starting at 700\n",
      "getting the results starting at 750\n",
      "getting the results starting at 800\n",
      "getting the results starting at 850\n",
      "getting the results starting at 900\n",
      "getting the results starting at 950\n"
     ]
    }
   ],
   "source": [
    "results = []\n",
    "for i in range(0, 1000, 50): \n",
    "    try:\n",
    "        tempresults = getbusiness_reviews(i)\n",
    "        tempresults = tempresults['businesses']\n",
    "        results = results + tempresults\n",
    "        time.sleep(1)\n",
    "        print(f\"getting the results starting at {i}\")\n",
    "    except:\n",
    "        continue"
   ]
  },
  {
   "cell_type": "code",
   "execution_count": 16,
   "metadata": {},
   "outputs": [
    {
     "data": {
      "text/plain": [
       "472"
      ]
     },
     "execution_count": 16,
     "metadata": {},
     "output_type": "execute_result"
    }
   ],
   "source": [
    "len(results)"
   ]
  },
  {
   "cell_type": "code",
   "execution_count": 17,
   "metadata": {},
   "outputs": [],
   "source": [
    "# Create list comprehension using a for loop\n",
    "yoga_zips = [results[i]['location']['zip_code']\n",
    "             for i in range(len(results))]"
   ]
  },
  {
   "cell_type": "code",
   "execution_count": 18,
   "metadata": {},
   "outputs": [
    {
     "name": "stdout",
     "output_type": "stream",
     "text": [
      "{'alias': 'modo-yoga-la-la-brea-los-angeles',\n",
      " 'categories': [{'alias': 'yoga', 'title': 'Yoga'}],\n",
      " 'coordinates': {'latitude': 34.0677327, 'longitude': -118.3436658},\n",
      " 'display_phone': '(323) 938-5000',\n",
      " 'distance': 2163.4563722090793,\n",
      " 'id': 'aX0lHtz12C56HSot4zDCLg',\n",
      " 'image_url': 'https://s3-media3.fl.yelpcdn.com/bphoto/CdnFDbLKgPLpkhaSrJPMeA/o.jpg',\n",
      " 'is_closed': False,\n",
      " 'location': {'address1': '340 S La Brea Ave',\n",
      "              'address2': None,\n",
      "              'address3': '',\n",
      "              'city': 'Los Angeles',\n",
      "              'country': 'US',\n",
      "              'display_address': ['340 S La Brea Ave', 'Los Angeles, CA 90036'],\n",
      "              'state': 'CA',\n",
      "              'zip_code': '90036'},\n",
      " 'name': 'Modo Yoga LA - La Brea',\n",
      " 'phone': '+13239385000',\n",
      " 'rating': 4.5,\n",
      " 'review_count': 385,\n",
      " 'transactions': [],\n",
      " 'url': 'https://www.yelp.com/biz/modo-yoga-la-la-brea-los-angeles?adjust_creative=05PGBhyUj3bw2wGlHd6Yvw&utm_campaign=yelp_api_v3&utm_medium=api_v3_business_search&utm_source=05PGBhyUj3bw2wGlHd6Yvw'}\n"
     ]
    }
   ],
   "source": [
    "pprint(results[1])"
   ]
  },
  {
   "cell_type": "code",
   "execution_count": 19,
   "metadata": {},
   "outputs": [],
   "source": [
    "name_zips = [results[i]['name']\n",
    "             for i in range(len(results))]"
   ]
  },
  {
   "cell_type": "code",
   "execution_count": 20,
   "metadata": {},
   "outputs": [],
   "source": [
    "import pandas as pd"
   ]
  },
  {
   "cell_type": "code",
   "execution_count": 21,
   "metadata": {},
   "outputs": [],
   "source": [
    "yoga_complete = pd.DataFrame({'ZIP Code': yoga_zips,\n",
    "              'Yoga Studio': name_zips\n",
    "             })\n",
    "\n",
    "yoga_complete = yoga_complete[[\"ZIP Code\", \"Yoga Studio\"]]\n",
    "\n",
    "yoga_complete.to_csv(\"yoga_data.csv\", index=False)"
   ]
  },
  {
   "cell_type": "code",
   "execution_count": 22,
   "metadata": {},
   "outputs": [
    {
     "data": {
      "text/html": [
       "<div>\n",
       "<style scoped>\n",
       "    .dataframe tbody tr th:only-of-type {\n",
       "        vertical-align: middle;\n",
       "    }\n",
       "\n",
       "    .dataframe tbody tr th {\n",
       "        vertical-align: top;\n",
       "    }\n",
       "\n",
       "    .dataframe thead th {\n",
       "        text-align: right;\n",
       "    }\n",
       "</style>\n",
       "<table border=\"1\" class=\"dataframe\">\n",
       "  <thead>\n",
       "    <tr style=\"text-align: right;\">\n",
       "      <th></th>\n",
       "      <th>ZIP Code</th>\n",
       "      <th>Yoga Studio</th>\n",
       "    </tr>\n",
       "  </thead>\n",
       "  <tbody>\n",
       "    <tr>\n",
       "      <th>0</th>\n",
       "      <td>90028</td>\n",
       "      <td>Set and Flow</td>\n",
       "    </tr>\n",
       "    <tr>\n",
       "      <th>1</th>\n",
       "      <td>90036</td>\n",
       "      <td>Modo Yoga LA - La Brea</td>\n",
       "    </tr>\n",
       "    <tr>\n",
       "      <th>2</th>\n",
       "      <td>90034</td>\n",
       "      <td>Red Diamond Yoga</td>\n",
       "    </tr>\n",
       "    <tr>\n",
       "      <th>3</th>\n",
       "      <td>90029</td>\n",
       "      <td>One Down Dog</td>\n",
       "    </tr>\n",
       "    <tr>\n",
       "      <th>4</th>\n",
       "      <td>90019</td>\n",
       "      <td>Liberation Yoga</td>\n",
       "    </tr>\n",
       "  </tbody>\n",
       "</table>\n",
       "</div>"
      ],
      "text/plain": [
       "  ZIP Code             Yoga Studio\n",
       "0    90028            Set and Flow\n",
       "1    90036  Modo Yoga LA - La Brea\n",
       "2    90034        Red Diamond Yoga\n",
       "3    90029            One Down Dog\n",
       "4    90019         Liberation Yoga"
      ]
     },
     "execution_count": 22,
     "metadata": {},
     "output_type": "execute_result"
    }
   ],
   "source": [
    "yoga_complete.head()"
   ]
  }
 ],
 "metadata": {
  "kernelspec": {
   "display_name": "Python 3",
   "language": "python",
   "name": "python3"
  },
  "language_info": {
   "codemirror_mode": {
    "name": "ipython",
    "version": 3
   },
   "file_extension": ".py",
   "mimetype": "text/x-python",
   "name": "python",
   "nbconvert_exporter": "python",
   "pygments_lexer": "ipython3",
   "version": "3.7.6"
  }
 },
 "nbformat": 4,
 "nbformat_minor": 4
}
